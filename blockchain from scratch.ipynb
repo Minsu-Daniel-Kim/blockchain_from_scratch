{
 "cells": [
  {
   "cell_type": "code",
   "execution_count": 134,
   "metadata": {},
   "outputs": [
    {
     "name": "stdout",
     "output_type": "stream",
     "text": [
      "The autoreload extension is already loaded. To reload it, use:\n",
      "  %reload_ext autoreload\n"
     ]
    }
   ],
   "source": [
    "%load_ext autoreload\n",
    "%autoreload 2\n",
    "from datetime import datetime\n",
    "import hashlib"
   ]
  },
  {
   "cell_type": "code",
   "execution_count": 137,
   "metadata": {},
   "outputs": [],
   "source": [
    "class Block:\n",
    "    \n",
    "    def __init__(self, timestamp, last_hash, hash_value, data):\n",
    "        self.timestamp = timestamp\n",
    "        self.last_hash = last_hash\n",
    "        self.hash_value = hash_value\n",
    "        self.data = data\n",
    "        \n",
    "    def __str__(self):\n",
    "        \n",
    "        bundle = {\n",
    "            \n",
    "            'timestamp': self.timestamp,\n",
    "            'last_hash': self.last_hash,\n",
    "            'hash_value': self.hash_value,\n",
    "            'data': self.data\n",
    "            \n",
    "        }\n",
    "        \n",
    "        return str(bundle)\n",
    "    @staticmethod\n",
    "    def genesis():\n",
    "        return Block('Genesis time', '-----', 'f1r57-h45h', [])\n",
    "    \n",
    "    @staticmethod\n",
    "    def mine_block(last_block, data):\n",
    "        timestamp = datetime.now()\n",
    "        last_hash = last_block.hash_value\n",
    "        hash_value = Block.hash(timestamp, last_hash, data)\n",
    "        return Block(timestamp, last_hash, hash_value, data)\n",
    "    \n",
    "    @staticmethod\n",
    "    def hash(timestamp, last_hash, data):\n",
    "        \n",
    "        input = str(timestamp) + str(last_hash) + str(data)\n",
    "        input = input.encode('utf-8')\n",
    "        return hashlib.sha256(input).hexdigest()\n",
    "    "
   ]
  },
  {
   "cell_type": "code",
   "execution_count": 143,
   "metadata": {},
   "outputs": [],
   "source": [
    "class Blockchain:\n",
    "    \n",
    "    def __init__(self):\n",
    "        self.chain = [Block.genesis()]\n",
    "    \n",
    "    def add_block(self, data):\n",
    "        last_block = self.chain[-1]"
   ]
  },
  {
   "cell_type": "code",
   "execution_count": 128,
   "metadata": {},
   "outputs": [],
   "source": [
    "fooBlock = Block.mineBlock(Block.genesis(), 'foo')"
   ]
  },
  {
   "cell_type": "code",
   "execution_count": 139,
   "metadata": {},
   "outputs": [],
   "source": [
    "blockchain = Blockchain()"
   ]
  },
  {
   "cell_type": "code",
   "execution_count": 145,
   "metadata": {},
   "outputs": [
    {
     "data": {
      "text/plain": [
       "3"
      ]
     },
     "execution_count": 145,
     "metadata": {},
     "output_type": "execute_result"
    }
   ],
   "source": [
    "[1,2,3][-1]"
   ]
  },
  {
   "cell_type": "code",
   "execution_count": 130,
   "metadata": {},
   "outputs": [
    {
     "name": "stdout",
     "output_type": "stream",
     "text": [
      "{'timestamp': datetime.datetime(2018, 7, 9, 21, 52, 42, 419419), 'lastHash': 'f1r57-h45h', 'hashValue': '6e6c884bd626bac21dd28874340e8a297428c3a7c95775a01cb3bfb14d2d8cc4', 'data': 'foo'}\n"
     ]
    }
   ],
   "source": [
    "print(fooBlock)"
   ]
  },
  {
   "cell_type": "code",
   "execution_count": 132,
   "metadata": {},
   "outputs": [],
   "source": [
    "foo2Block = Block.mineBlock(fooBlock, 'foo2')"
   ]
  },
  {
   "cell_type": "code",
   "execution_count": 133,
   "metadata": {},
   "outputs": [
    {
     "name": "stdout",
     "output_type": "stream",
     "text": [
      "{'timestamp': datetime.datetime(2018, 7, 9, 21, 53, 51, 113939), 'lastHash': '6e6c884bd626bac21dd28874340e8a297428c3a7c95775a01cb3bfb14d2d8cc4', 'hashValue': 'f866d4baf0fe41efd64dabdc4a1f20578b26653cf2f1fe729c81e7a1893d26ac', 'data': 'foo2'}\n"
     ]
    }
   ],
   "source": [
    "print(foo2Block)"
   ]
  },
  {
   "cell_type": "code",
   "execution_count": null,
   "metadata": {},
   "outputs": [],
   "source": []
  }
 ],
 "metadata": {
  "kernelspec": {
   "display_name": "Python 3",
   "language": "python",
   "name": "python3"
  },
  "language_info": {
   "codemirror_mode": {
    "name": "ipython",
    "version": 3
   },
   "file_extension": ".py",
   "mimetype": "text/x-python",
   "name": "python",
   "nbconvert_exporter": "python",
   "pygments_lexer": "ipython3",
   "version": "3.6.5"
  }
 },
 "nbformat": 4,
 "nbformat_minor": 2
}
